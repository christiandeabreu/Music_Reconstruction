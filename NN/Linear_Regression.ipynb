{
 "cells": [
  {
   "cell_type": "markdown",
   "metadata": {},
   "source": [
    "# Tensorflow Linear Regerssion"
   ]
  },
  {
   "cell_type": "code",
   "execution_count": 4,
   "metadata": {},
   "outputs": [
    {
     "data": {
      "image/png": "[encoded data removed]",
      "text/plain": [
       "<Figure size 432x288 with 1 Axes>"
      ]
     },
     "metadata": {},
     "output_type": "display_data"
    }
   ],
   "source": [
    "import numpy as np\n",
    "import tensorflow as tf\n",
    "import matplotlib.pyplot as plt\n",
    "np.random.seed(1234)\n",
    "\n",
    "N = 100\n",
    "x = np.linspace(0., 1., N)[:,None]\n",
    "y = x + np.random.normal(0, 0.1, N)[:,None]\n",
    "plt.plot(x,y, 'ro')\n",
    "plt.show()"
   ]
  },
  {
   "cell_type": "code",
   "execution_count": 5,
   "metadata": {},
   "outputs": [
    {
     "name": "stdout",
     "output_type": "stream",
     "text": [
      "(100, 1)\n",
      "(100, 1)\n"
     ]
    }
   ],
   "source": [
    "print(x.shape)\n",
    "print(y.shape)"
   ]
  },
  {
   "cell_type": "code",
   "execution_count": 6,
   "metadata": {},
   "outputs": [
    {
     "name": "stdout",
     "output_type": "stream",
     "text": [
      "It: 0, Loss: 9.53e-02\n",
      "It: 100, Loss: 6.70e-02\n",
      "It: 200, Loss: 5.25e-02\n",
      "It: 300, Loss: 4.05e-02\n",
      "It: 400, Loss: 3.11e-02\n",
      "It: 500, Loss: 2.41e-02\n",
      "It: 600, Loss: 1.91e-02\n",
      "It: 700, Loss: 1.57e-02\n",
      "It: 800, Loss: 1.34e-02\n",
      "It: 900, Loss: 1.19e-02\n",
      "It: 1000, Loss: 1.10e-02\n",
      "It: 1100, Loss: 1.05e-02\n",
      "It: 1200, Loss: 1.02e-02\n",
      "It: 1300, Loss: 1.00e-02\n",
      "It: 1400, Loss: 9.97e-03\n",
      "It: 1500, Loss: 9.94e-03\n",
      "It: 1600, Loss: 9.92e-03\n",
      "It: 1700, Loss: 9.91e-03\n",
      "It: 1800, Loss: 9.91e-03\n",
      "It: 1900, Loss: 9.91e-03\n",
      "It: 2000, Loss: 9.91e-03\n",
      "It: 2100, Loss: 9.91e-03\n",
      "It: 2200, Loss: 9.91e-03\n",
      "It: 2300, Loss: 9.91e-03\n",
      "It: 2400, Loss: 9.91e-03\n",
      "It: 2500, Loss: 9.91e-03\n",
      "It: 2600, Loss: 9.91e-03\n",
      "It: 2700, Loss: 9.91e-03\n",
      "It: 2800, Loss: 9.91e-03\n",
      "It: 2900, Loss: 9.91e-03\n",
      "It: 3000, Loss: 9.91e-03\n",
      "It: 3100, Loss: 9.91e-03\n",
      "It: 3200, Loss: 9.91e-03\n",
      "It: 3300, Loss: 9.91e-03\n",
      "It: 3400, Loss: 9.91e-03\n",
      "It: 3500, Loss: 9.91e-03\n",
      "It: 3600, Loss: 9.91e-03\n",
      "It: 3700, Loss: 9.91e-03\n",
      "It: 3800, Loss: 9.91e-03\n",
      "It: 3900, Loss: 9.91e-03\n",
      "It: 4000, Loss: 9.91e-03\n",
      "It: 4100, Loss: 9.91e-03\n",
      "It: 4200, Loss: 9.91e-03\n",
      "It: 4300, Loss: 9.91e-03\n",
      "It: 4400, Loss: 9.91e-03\n",
      "It: 4500, Loss: 9.91e-03\n",
      "It: 4600, Loss: 9.91e-03\n",
      "It: 4700, Loss: 9.91e-03\n",
      "It: 4800, Loss: 9.91e-03\n",
      "It: 4900, Loss: 9.91e-03\n"
     ]
    },
    {
     "data": {
      "image/png": "[encoded data removed]",
      "text/plain": [
       "<Figure size 432x288 with 1 Axes>"
      ]
     },
     "metadata": {},
     "output_type": "display_data"
    }
   ],
   "source": [
    "X = tf.placeholder(tf.float32, shape=(N, 1))\n",
    "Y = tf.placeholder(tf.float32, shape=(N, 1))\n",
    "\n",
    "W = tf.Variable(np.random.randn())\n",
    "b = tf.Variable(np.random.randn())\n",
    "\n",
    "Y_pred = tf.multiply(X, W)  + b \n",
    "\n",
    "loss = tf.reduce_mean((Y - Y_pred) ** 2)\n",
    "\n",
    "learning_rate = 0.001\n",
    "iterations = 5000\n",
    "\n",
    "#optimizer = tf.train.GradientDescentOptimizer(learning_rate).minimize(loss)\n",
    "optimizer =tf.train.AdamOptimizer(learning_rate).minimize(loss)\n",
    "\n",
    "init = tf.global_variables_initializer() \n",
    "\n",
    "with tf.Session() as sess:\n",
    "    sess.run(init) \n",
    "    for epochs in range(iterations):\n",
    "        _, Loss = sess.run([optimizer, loss], feed_dict = {X : x, Y : y})\n",
    "        if epochs % 100 == 0:\n",
    "#            weight = sess.run(W)\n",
    " #           bias = sess.run(b)\n",
    "            print('It: %d, Loss: %.2e' % (epochs, Loss))\n",
    "            \n",
    "    Y_p = sess.run(Y_pred, feed_dict = {X : x})\n",
    "    plt.plot(x, Y_p,'b-')\n",
    "    plt.plot(x, y,'ro')\n",
    "    plt.show()\n",
    "            "
   ]
  },
  {
   "cell_type": "code",
   "execution_count": null,
   "metadata": {},
   "outputs": [],
   "source": []
  },
  {
   "cell_type": "markdown",
   "metadata": {},
   "source": [
    "# Pytorch Linear Regression"
   ]
  },
  {
   "cell_type": "code",
   "execution_count": 15,
   "metadata": {},
   "outputs": [
    {
     "data": {
      "image/png": "[encoded data removed]",
      "text/plain": [
       "<Figure size 432x288 with 1 Axes>"
      ]
     },
     "metadata": {
      "needs_background": "light"
     },
     "output_type": "display_data"
    }
   ],
   "source": [
    "import numpy as np\n",
    "import torch\n",
    "from torch.autograd import Variable\n",
    "import matplotlib.pyplot as plt\n",
    "np.random.seed(1234)\n",
    "\n",
    "N = 50\n",
    "x = np.linspace(0., 1., N)[:,None]\n",
    "y = x**5 + np.random.normal(0, 0.1, N)[:,None]\n",
    "plt.plot(x,y, 'ro')\n",
    "plt.show()"
   ]
  },
  {
   "cell_type": "code",
   "execution_count": 19,
   "metadata": {},
   "outputs": [
    {
     "name": "stdout",
     "output_type": "stream",
     "text": [
      "It: 0, Loss: 8.33e-02\n",
      "It: 100, Loss: 6.34e-02\n",
      "It: 200, Loss: 4.56e-02\n",
      "It: 300, Loss: 3.40e-02\n",
      "It: 400, Loss: 3.11e-02\n",
      "It: 500, Loss: 3.05e-02\n",
      "It: 600, Loss: 2.99e-02\n",
      "It: 700, Loss: 2.93e-02\n",
      "It: 800, Loss: 2.87e-02\n",
      "It: 900, Loss: 2.81e-02\n",
      "It: 1000, Loss: 2.73e-02\n",
      "It: 1100, Loss: 2.65e-02\n",
      "It: 1200, Loss: 2.56e-02\n",
      "It: 1300, Loss: 2.45e-02\n",
      "It: 1400, Loss: 2.32e-02\n",
      "It: 1500, Loss: 2.17e-02\n",
      "It: 1600, Loss: 1.99e-02\n",
      "It: 1700, Loss: 1.79e-02\n",
      "It: 1800, Loss: 1.57e-02\n",
      "It: 1900, Loss: 1.35e-02\n",
      "It: 2000, Loss: 1.19e-02\n",
      "It: 2100, Loss: 1.09e-02\n",
      "It: 2200, Loss: 1.05e-02\n",
      "It: 2300, Loss: 1.02e-02\n",
      "It: 2400, Loss: 1.01e-02\n",
      "It: 2500, Loss: 9.96e-03\n",
      "It: 2600, Loss: 9.86e-03\n",
      "It: 2700, Loss: 9.78e-03\n",
      "It: 2800, Loss: 9.71e-03\n",
      "It: 2900, Loss: 9.64e-03\n",
      "It: 3000, Loss: 9.59e-03\n",
      "It: 3100, Loss: 9.54e-03\n",
      "It: 3200, Loss: 9.49e-03\n",
      "It: 3300, Loss: 9.45e-03\n",
      "It: 3400, Loss: 9.41e-03\n",
      "It: 3500, Loss: 9.38e-03\n",
      "It: 3600, Loss: 9.35e-03\n",
      "It: 3700, Loss: 9.32e-03\n",
      "It: 3800, Loss: 9.29e-03\n",
      "It: 3900, Loss: 9.27e-03\n",
      "It: 4000, Loss: 9.25e-03\n",
      "It: 4100, Loss: 9.23e-03\n",
      "It: 4200, Loss: 9.21e-03\n",
      "It: 4300, Loss: 9.20e-03\n",
      "It: 4400, Loss: 9.18e-03\n",
      "It: 4500, Loss: 9.17e-03\n",
      "It: 4600, Loss: 9.15e-03\n",
      "It: 4700, Loss: 9.14e-03\n",
      "It: 4800, Loss: 9.13e-03\n",
      "It: 4900, Loss: 9.12e-03\n"
     ]
    },
    {
     "data": {
      "image/png": "[encoded data removed]",
      "text/plain": [
       "<Figure size 432x288 with 1 Axes>"
      ]
     },
     "metadata": {
      "needs_background": "light"
     },
     "output_type": "display_data"
    }
   ],
   "source": [
    "X = torch.from_numpy(x).type(torch.FloatTensor)\n",
    "Y = torch.from_numpy(y).type(torch.FloatTensor)\n",
    "\n",
    "class Linear_Layer(torch.nn.Module):\n",
    "    def __init__(self):\n",
    "        super(Linear_Layer, self).__init__()\n",
    "        self.layer1 = torch.nn.Sequential(\n",
    "              torch.nn.Linear(1, 20),\n",
    "              torch.nn.Tanh())\n",
    "        self.layer2 = torch.nn.Sequential(\n",
    "              torch.nn.Linear(20, 20), \n",
    "              torch.nn.Tanh())\n",
    "        self.layer3 = torch.nn.Sequential(\n",
    "              torch.nn.Linear(20, 20),\n",
    "              torch.nn.Tanh())\n",
    "        self.layer4 = torch.nn.Linear(20, 1) \n",
    "        \n",
    "    def forward(self, x):\n",
    "        y1 = self.layer1(x)\n",
    "        y2 = self.layer2(y1)\n",
    "        y3 = self.layer3(y2)\n",
    "        y4 = self.layer4(y3)\n",
    "        return y4\n",
    "    \n",
    "Linear_Layer_net = Linear_Layer() \n",
    "\n",
    "def compute_loss(X, Y):\n",
    "    Y_pred = Linear_Layer_net(X)\n",
    "    return torch.mean((Y - Y_pred)**2)\n",
    "\n",
    "\n",
    "learning_rate = 0.0001\n",
    "iterations = 5000\n",
    "optimizer = torch.optim.Adam(list(Linear_Layer_net.parameters()), lr = learning_rate)\n",
    "\n",
    "for epochs in range(iterations):\n",
    "    loss = compute_loss(X, Y)\n",
    "    # Zero gradients\n",
    "    optimizer.zero_grad()\n",
    "    # perform backward pass\n",
    "    loss.backward()\n",
    "    # update weights\n",
    "    optimizer.step()\n",
    "    if epochs % 100 == 0:\n",
    "        print('It: %d, Loss: %.2e' % (epochs, loss))\n",
    "    \n",
    "Y_pred = Linear_Layer_net(X)\n",
    "Y_p = Y_pred.cpu().data.numpy()\n",
    "plt.plot(x, Y_p,'b-')\n",
    "plt.plot(x, y,'ro')\n",
    "plt.show()\n"
   ]
  },
  {
   "cell_type": "code",
   "execution_count": null,
   "metadata": {},
   "outputs": [],
   "source": []
  },
  {
   "cell_type": "code",
   "execution_count": null,
   "metadata": {},
   "outputs": [],
   "source": []
  },
  {
   "cell_type": "code",
   "execution_count": null,
   "metadata": {},
   "outputs": [],
   "source": []
  }
 ],
 "metadata": {
  "kernelspec": {
   "display_name": "Python 3",
   "language": "python",
   "name": "python3"
  },
  "language_info": {
   "codemirror_mode": {
    "name": "ipython",
    "version": 3
   },
   "file_extension": ".py",
   "mimetype": "text/x-python",
   "name": "python",
   "nbconvert_exporter": "python",
   "pygments_lexer": "ipython3",
   "version": "3.6.8"
  }
 },
 "nbformat": 4,
 "nbformat_minor": 2
}
